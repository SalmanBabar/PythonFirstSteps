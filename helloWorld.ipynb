{
 "cells": [
  {
   "cell_type": "markdown",
   "id": "b9b7d410",
   "metadata": {},
   "source": [
    "### Markdown\n",
    "- using markdown in a Jupiter Notebook within VS Code\n",
    "\n",
    "$$ \\frac{\\partial}{\\partial x} \\left( k \\frac{\\partial T}{\\partial x} \\right)+ \\frac{\\partial}{\\partial y} \\left( k \\frac{\\partial T}{\\partial y} \\right)+ \\frac{\\partial}{\\partial z} \\left( k \\frac{\\partial T}{\\partial z} \\right)+ \\dot{q}= \\rho C_p \\frac{\\partial T}{\\partial t} $$"
   ]
  },
  {
   "cell_type": "code",
   "execution_count": 2,
   "id": "eb584fd8",
   "metadata": {},
   "outputs": [
    {
     "name": "stdout",
     "output_type": "stream",
     "text": [
      "hello World\n"
     ]
    }
   ],
   "source": [
    "print(\"hello World\")"
   ]
  }
 ],
 "metadata": {
  "kernelspec": {
   "display_name": "Python 3",
   "language": "python",
   "name": "python3"
  },
  "language_info": {
   "codemirror_mode": {
    "name": "ipython",
    "version": 3
   },
   "file_extension": ".py",
   "mimetype": "text/x-python",
   "name": "python",
   "nbconvert_exporter": "python",
   "pygments_lexer": "ipython3",
   "version": "3.13.3"
  }
 },
 "nbformat": 4,
 "nbformat_minor": 5
}
