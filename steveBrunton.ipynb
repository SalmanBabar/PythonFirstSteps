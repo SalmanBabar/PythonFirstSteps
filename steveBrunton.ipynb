{
 "cells": [
  {
   "cell_type": "markdown",
   "id": "cb83c03e",
   "metadata": {},
   "source": [
    "# numpy – Numerical Python Library\n",
    "```Bash\n",
    "pip3 install numpy\n",
    "```"
   ]
  },
  {
   "cell_type": "code",
   "execution_count": null,
   "id": "d1169960",
   "metadata": {},
   "outputs": [],
   "source": [
    "import numpy as np\n",
    "\n",
    "a = np.array([1, 2, 3])\n",
    "b = np.array([4, 5, 6])\n",
    "\n",
    "print(a + b)  # [5 7 9]"
   ]
  },
  {
   "cell_type": "markdown",
   "id": "777e7f7a",
   "metadata": {},
   "source": [
    "# scipy – Scientific computing\n",
    "```Bash\n",
    "pip3 install scipy\n",
    "```"
   ]
  },
  {
   "cell_type": "code",
   "execution_count": null,
   "id": "ebdb9d4a",
   "metadata": {},
   "outputs": [],
   "source": [
    "from scipy import integrate\n",
    "\n",
    "result, _ = integrate.quad(lambda x: x**2, 0, 3)\n",
    "print(result)  # 9.0 (∫ x² dx from 0 to 3)"
   ]
  },
  {
   "cell_type": "markdown",
   "id": "3207cf6d",
   "metadata": {},
   "source": [
    "# matplotlib – Data visualization\n",
    "```Bash\n",
    "pip3 install matplotlib\n",
    "```"
   ]
  },
  {
   "cell_type": "code",
   "execution_count": null,
   "id": "ee76474a",
   "metadata": {},
   "outputs": [],
   "source": [
    "import matplotlib.pyplot as plt\n",
    "\n",
    "x = [1, 2, 3]\n",
    "y = [2, 4, 1]\n",
    "\n",
    "plt.plot(x, y)\n",
    "plt.title(\"Simple Plot\")\n",
    "plt.show()\n"
   ]
  },
  {
   "cell_type": "markdown",
   "id": "09d57497",
   "metadata": {},
   "source": [
    "***\n",
    "<br><br><br><br><br><br><br><br><br><br>\n",
    "***"
   ]
  },
  {
   "cell_type": "markdown",
   "id": "b59dea2d",
   "metadata": {},
   "source": [
    "# Basic Arithmetic"
   ]
  },
  {
   "cell_type": "code",
   "execution_count": null,
   "id": "7a2b94df",
   "metadata": {},
   "outputs": [],
   "source": [
    "print(2 +2)\n",
    "print (2 * 3)\n",
    "print (2 / 3)\n",
    "print (2 - 2 * 7)\n",
    "print ((2 -2) * 7)"
   ]
  },
  {
   "cell_type": "markdown",
   "id": "684e1aaf",
   "metadata": {},
   "source": [
    "## to the power $ 2^3 $"
   ]
  },
  {
   "cell_type": "code",
   "execution_count": null,
   "id": "946727c9",
   "metadata": {},
   "outputs": [],
   "source": [
    "2 ** 3"
   ]
  },
  {
   "cell_type": "markdown",
   "id": "3c271117",
   "metadata": {},
   "source": [
    "# Assign to variable"
   ]
  },
  {
   "cell_type": "code",
   "execution_count": null,
   "id": "6f7e192b",
   "metadata": {},
   "outputs": [],
   "source": [
    "a = 2 + 2\n",
    "print(a)"
   ]
  },
  {
   "cell_type": "markdown",
   "id": "8c467975",
   "metadata": {},
   "source": [
    "***\n",
    "<br><br><br><br><br><br><br><br><br><br>\n",
    "***"
   ]
  },
  {
   "cell_type": "markdown",
   "id": "3445d7b3",
   "metadata": {},
   "source": [
    "# for Loop"
   ]
  },
  {
   "cell_type": "code",
   "execution_count": null,
   "id": "34c2dd53",
   "metadata": {},
   "outputs": [],
   "source": [
    "count = 0 #initialize\n",
    "for ii in range(10):\n",
    "    # print(ii+1)\n",
    "    count = ii + 1 + count # ii+1 since Python starts with 0 index\n",
    "    print (count)\n",
    "# print (count)"
   ]
  },
  {
   "cell_type": "markdown",
   "id": "a0c24a07",
   "metadata": {},
   "source": [
    "***\n",
    "<br><br><br><br><br><br><br><br><br><br>\n",
    "***"
   ]
  },
  {
   "cell_type": "markdown",
   "id": "d3dd9736",
   "metadata": {},
   "source": [
    "# Reset"
   ]
  },
  {
   "cell_type": "code",
   "execution_count": null,
   "id": "e7be0120",
   "metadata": {},
   "outputs": [],
   "source": [
    "%reset -f\n",
    "a = 9\n",
    "print(a)"
   ]
  },
  {
   "cell_type": "code",
   "execution_count": null,
   "id": "96f413a5",
   "metadata": {},
   "outputs": [],
   "source": [
    "%reset -f\n",
    "a = 10\n",
    "print(a)\n"
   ]
  },
  {
   "cell_type": "markdown",
   "id": "8e1c6835",
   "metadata": {},
   "source": [
    "***\n",
    "<br><br><br><br><br><br><br><br><br><br>\n",
    "***"
   ]
  },
  {
   "cell_type": "markdown",
   "id": "bb92bb2a",
   "metadata": {},
   "source": [
    "# while Loop"
   ]
  },
  {
   "cell_type": "code",
   "execution_count": null,
   "id": "0ca2c99d",
   "metadata": {},
   "outputs": [],
   "source": [
    "%reset -f\n",
    "counter = 50\n",
    "while (counter > 10):\n",
    "    counter = counter - 1\n",
    "    print (counter)\n",
    "# print (counter)"
   ]
  },
  {
   "cell_type": "markdown",
   "id": "a1073ba5",
   "metadata": {},
   "source": [
    "***\n",
    "<br><br><br><br><br><br><br><br><br><br>\n",
    "***"
   ]
  },
  {
   "cell_type": "markdown",
   "id": "8da01baf",
   "metadata": {},
   "source": [
    "# Arays & Vectors"
   ]
  },
  {
   "cell_type": "code",
   "execution_count": null,
   "id": "06d68cc8",
   "metadata": {},
   "outputs": [],
   "source": [
    "%reset -f\n",
    "#import numpy as np\n",
    "A_Vector = [1, 2, 3, 4]\n",
    "print(A_Vector)\n",
    "#print(np.shape(A_Vector))\n",
    "#print(A_Vector[0])"
   ]
  },
  {
   "cell_type": "code",
   "execution_count": null,
   "id": "369f6414",
   "metadata": {},
   "outputs": [],
   "source": [
    "%reset -f\n",
    "import numpy as np\n",
    "\n",
    "A_Vector = np.array ( [4,3,2,1] ) #1D vector (neither row nor column).\n",
    "print (A_Vector)\n",
    "print (A_Vector.shape)\n",
    "\n",
    "B_Vector = np.array ( [ [4, 3, 2, 4] ] ) # row vector.\n",
    "print (B_Vector)\n",
    "print (\"B_Vector shape:\", B_Vector.shape, \"which means it's a 1D array.\")\n",
    "\n",
    "C_Vector = np.array ( [ [5], [6], [7], [8] ] ) # column vector\n",
    "print (C_Vector)\n",
    "print (C_Vector.shape)\n",
    "\n",
    "#D_Vector=np.zeros(4)\n",
    "#D_Vector=np.ones(4)\n",
    "D_Vector = np.full (5,2)\n",
    "print (D_Vector)\n",
    "print (D_Vector.shape)"
   ]
  },
  {
   "cell_type": "markdown",
   "id": "56372b0a",
   "metadata": {},
   "source": [
    "***\n",
    "<br><br><br><br><br><br><br><br><br><br>\n",
    "***"
   ]
  },
  {
   "cell_type": "markdown",
   "id": "f9ecb03e",
   "metadata": {},
   "source": [
    "# Matrices"
   ]
  },
  {
   "cell_type": "code",
   "execution_count": null,
   "id": "32e33af1",
   "metadata": {},
   "outputs": [],
   "source": [
    "%reset -f\n",
    "import numpy as np\n",
    "\n",
    "A_Matrix = np.array([\n",
    "    [1, 2, 3, 4],\n",
    "    [5, 6, 7, 8]\n",
    "    ])\n",
    "print (A_Matrix)\n",
    "print (A_Matrix.shape)"
   ]
  },
  {
   "cell_type": "markdown",
   "id": "53a83efc",
   "metadata": {},
   "source": [
    "## Matrix Multiplication"
   ]
  },
  {
   "cell_type": "code",
   "execution_count": null,
   "id": "e2787f15",
   "metadata": {},
   "outputs": [],
   "source": [
    "%reset -f\n",
    "import numpy as np\n",
    "\n",
    "A_Vector = np.array( [1, 2, 3, 4] ) #1D vector (neither row nor column).\n",
    "print(A_Vector)\n",
    "print(A_Vector.shape,\"\\n\")\n",
    "\n",
    "A1_Vector = np.array ( [ [1, 2, 3, 4] ] ) # row vector\n",
    "print(\"row vector →\",A1_Vector, \"shape →\",A1_Vector.shape,\"\\n\")\n",
    "\n",
    "B_Vector = np.array ( [ [1], [2], [3], [4] ] ) # column vector\n",
    "print(\"column vector →\\n\",B_Vector, \"\\nshape →\", B_Vector.shape,\"\\n\")\n",
    "\n",
    "A_Matrix = np.array([\n",
    "    [1, 2, 3, 4],\n",
    "    [5, 6, 7, 8]\n",
    "])\n",
    "print(\"matrix →\\n\",A_Matrix, \"\\nshape →\", A_Matrix.shape,\"\\n\")\n",
    "\n",
    "mat_vec_product = A_Matrix @ A_Vector\n",
    "print(\"matrix product →\\n\", mat_vec_product, \"\\nshape →\", mat_vec_product.shape,\"\\n\")\n",
    "\n",
    "mat_vec_product2 = A_Matrix @ B_Vector # using column vector is TECHNICALLY CORRECT\n",
    "print(\"matrix product →\\n\", mat_vec_product2, \"\\nshape →\", mat_vec_product2.shape,\"\\n\")\n",
    "\n",
    "X_Matrix = np.array([\n",
    "    [1, 2, 3, 4],\n",
    "    [5, 6, 7, 8],\n",
    "    [9, 10, 11, 12],\n",
    "    [13, 14, 15, 16]\n",
    "    ])\n",
    "mat_vec_product3 = X_Matrix @ X_Matrix\n",
    "print(\"matrix product →\\n\", mat_vec_product3, \"\\nshape →\", mat_vec_product3.shape,\"\\n\")"
   ]
  }
 ],
 "metadata": {
  "kernelspec": {
   "display_name": "Python 3",
   "language": "python",
   "name": "python3"
  },
  "language_info": {
   "codemirror_mode": {
    "name": "ipython",
    "version": 3
   },
   "file_extension": ".py",
   "mimetype": "text/x-python",
   "name": "python",
   "nbconvert_exporter": "python",
   "pygments_lexer": "ipython3",
   "version": "3.13.3"
  }
 },
 "nbformat": 4,
 "nbformat_minor": 5
}
