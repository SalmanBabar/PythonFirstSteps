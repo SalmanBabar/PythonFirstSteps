{
 "cells": [
  {
   "cell_type": "markdown",
   "id": "c56422ed",
   "metadata": {},
   "source": [
    "- notes from YouTube, Steve Brunton, [Engineering Math Pre-Req: Quick and Dirty Introduction to Python](https://youtu.be/-CX9B_SB8ME?si=7gelankuXkT3K90S)\n",
    "    - [Git](https://youtu.be/6FWhjWhOIcM?si=R5uBJtzq2FdcFddb)\n",
    "<br><br><br><br><br>\n",
    "- high level intro to Python:\n",
    "    - add numbers\n",
    "    - build matrices\n",
    "    - make plots"
   ]
  },
  {
   "cell_type": "markdown",
   "id": "0570d240",
   "metadata": {},
   "source": [
    "***\n",
    "<br><br><br><br><br><br><br><br><br><br>\n",
    "***"
   ]
  },
  {
   "cell_type": "markdown",
   "id": "cb83c03e",
   "metadata": {},
   "source": [
    "# numpy – Numerical Python Library\n",
    "```Bash\n",
    "pip3 install numpy\n",
    "```"
   ]
  },
  {
   "cell_type": "code",
   "execution_count": null,
   "id": "d1169960",
   "metadata": {},
   "outputs": [],
   "source": [
    "import numpy as np\n",
    "\n",
    "a = np.array([1, 2, 3])\n",
    "b = np.array([4, 5, 6])\n",
    "\n",
    "print(a + b)  # [5 7 9]"
   ]
  },
  {
   "cell_type": "markdown",
   "id": "777e7f7a",
   "metadata": {},
   "source": [
    "# scipy – Scientific computing\n",
    "```Bash\n",
    "pip3 install scipy\n",
    "```"
   ]
  },
  {
   "cell_type": "code",
   "execution_count": null,
   "id": "ebdb9d4a",
   "metadata": {},
   "outputs": [],
   "source": [
    "from scipy import integrate\n",
    "\n",
    "result, _ = integrate.quad(lambda x: x**2, 0, 3)\n",
    "print(result)  # 9.0 (∫ x² dx from 0 to 3)"
   ]
  },
  {
   "cell_type": "markdown",
   "id": "3207cf6d",
   "metadata": {},
   "source": [
    "# matplotlib – Data visualization\n",
    "```Bash\n",
    "pip3 install matplotlib\n",
    "```"
   ]
  },
  {
   "cell_type": "code",
   "execution_count": null,
   "id": "ee76474a",
   "metadata": {},
   "outputs": [],
   "source": [
    "import matplotlib.pyplot as plt\n",
    "\n",
    "x = [1, 2, 3]\n",
    "y = [2, 4, 1]\n",
    "\n",
    "plt.plot(x, y)\n",
    "plt.title(\"Simple Plot\")\n",
    "plt.show()\n"
   ]
  },
  {
   "cell_type": "markdown",
   "id": "09d57497",
   "metadata": {},
   "source": [
    "***\n",
    "<br><br><br><br><br><br><br><br><br><br>\n",
    "***"
   ]
  },
  {
   "cell_type": "markdown",
   "id": "b59dea2d",
   "metadata": {},
   "source": [
    "# Basic Arithmetic"
   ]
  },
  {
   "cell_type": "code",
   "execution_count": null,
   "id": "7a2b94df",
   "metadata": {},
   "outputs": [],
   "source": [
    "print(2 + 2)\n",
    "print (2 * 3)\n",
    "print (2 / 3)\n",
    "print (2 - 2 * 7)\n",
    "print ((2 -2) * 7)"
   ]
  },
  {
   "cell_type": "markdown",
   "id": "684e1aaf",
   "metadata": {},
   "source": [
    "## to the power $ 2^3 $"
   ]
  },
  {
   "cell_type": "code",
   "execution_count": null,
   "id": "946727c9",
   "metadata": {},
   "outputs": [],
   "source": [
    "2 ** 3"
   ]
  },
  {
   "cell_type": "markdown",
   "id": "3c271117",
   "metadata": {},
   "source": [
    "# Assign to variable"
   ]
  },
  {
   "cell_type": "code",
   "execution_count": null,
   "id": "6f7e192b",
   "metadata": {},
   "outputs": [],
   "source": [
    "a = 2 + 2\n",
    "print(a)"
   ]
  },
  {
   "cell_type": "markdown",
   "id": "8c467975",
   "metadata": {},
   "source": [
    "***\n",
    "<br><br><br><br><br><br><br><br><br><br>\n",
    "***"
   ]
  },
  {
   "cell_type": "markdown",
   "id": "3445d7b3",
   "metadata": {},
   "source": [
    "# for Loop"
   ]
  },
  {
   "cell_type": "code",
   "execution_count": null,
   "id": "34c2dd53",
   "metadata": {},
   "outputs": [],
   "source": [
    "count = 0 #initialize\n",
    "for ii in range(10):\n",
    "    # print(ii+1)\n",
    "    count = ii + 1 + count # ii+1 since Python starts with 0 index\n",
    "    print (count)\n",
    "# print (count)"
   ]
  },
  {
   "cell_type": "markdown",
   "id": "a0c24a07",
   "metadata": {},
   "source": [
    "***\n",
    "<br><br><br><br><br><br><br><br><br><br>\n",
    "***"
   ]
  },
  {
   "cell_type": "markdown",
   "id": "d3dd9736",
   "metadata": {},
   "source": [
    "# Reset"
   ]
  },
  {
   "cell_type": "code",
   "execution_count": null,
   "id": "e7be0120",
   "metadata": {},
   "outputs": [],
   "source": [
    "%reset -f\n",
    "a = 9\n",
    "print(a)"
   ]
  },
  {
   "cell_type": "code",
   "execution_count": null,
   "id": "96f413a5",
   "metadata": {},
   "outputs": [],
   "source": [
    "%reset -f\n",
    "a = 10\n",
    "print(a)\n"
   ]
  },
  {
   "cell_type": "markdown",
   "id": "8e1c6835",
   "metadata": {},
   "source": [
    "***\n",
    "<br><br><br><br><br><br><br><br><br><br>\n",
    "***"
   ]
  },
  {
   "cell_type": "markdown",
   "id": "bb92bb2a",
   "metadata": {},
   "source": [
    "# while Loop"
   ]
  },
  {
   "cell_type": "code",
   "execution_count": null,
   "id": "0ca2c99d",
   "metadata": {},
   "outputs": [],
   "source": [
    "%reset -f\n",
    "counter = 50\n",
    "while (counter > 10):\n",
    "    counter = counter - 1\n",
    "    print (counter)\n",
    "# print (counter)"
   ]
  },
  {
   "cell_type": "markdown",
   "id": "a1073ba5",
   "metadata": {},
   "source": [
    "***\n",
    "<br><br><br><br><br><br><br><br><br><br>\n",
    "***"
   ]
  },
  {
   "cell_type": "markdown",
   "id": "8da01baf",
   "metadata": {},
   "source": [
    "# Arays & Vectors"
   ]
  },
  {
   "cell_type": "code",
   "execution_count": null,
   "id": "06d68cc8",
   "metadata": {},
   "outputs": [],
   "source": [
    "%reset -f\n",
    "#import numpy as np\n",
    "A_Vector = [1, 2, 3, 4]\n",
    "print(A_Vector)\n",
    "#print(np.shape(A_Vector))\n",
    "#print(A_Vector[0])"
   ]
  },
  {
   "cell_type": "code",
   "execution_count": null,
   "id": "369f6414",
   "metadata": {},
   "outputs": [],
   "source": [
    "%reset -f\n",
    "import numpy as np\n",
    "\n",
    "A_Vector = np.array ( [4,3,2,1] ) #1D vector (neither row nor column).\n",
    "print (A_Vector)\n",
    "print (A_Vector.shape)\n",
    "\n",
    "B_Vector = np.array ( [ [4, 3, 2, 4] ] ) # row vector.\n",
    "print (B_Vector)\n",
    "print (\"B_Vector shape:\", B_Vector.shape, \"which means it's a 1D array.\")\n",
    "\n",
    "C_Vector = np.array ( [ [5], [6], [7], [8] ] ) # column vector\n",
    "print (C_Vector)\n",
    "print (C_Vector.shape)\n",
    "\n",
    "#D_Vector=np.zeros(4)\n",
    "#D_Vector=np.ones(4)\n",
    "D_Vector = np.full (5,2)\n",
    "print (D_Vector)\n",
    "print (D_Vector.shape)"
   ]
  },
  {
   "cell_type": "markdown",
   "id": "56372b0a",
   "metadata": {},
   "source": [
    "***\n",
    "<br><br><br><br><br><br><br><br><br><br>\n",
    "***"
   ]
  },
  {
   "cell_type": "markdown",
   "id": "f9ecb03e",
   "metadata": {},
   "source": [
    "# Matrices"
   ]
  },
  {
   "cell_type": "code",
   "execution_count": null,
   "id": "32e33af1",
   "metadata": {},
   "outputs": [],
   "source": [
    "%reset -f\n",
    "import numpy as np\n",
    "\n",
    "A_Matrix = np.array([\n",
    "    [1, 2, 3, 4],\n",
    "    [5, 6, 7, 8]\n",
    "    ])\n",
    "print (A_Matrix)\n",
    "print (A_Matrix.shape)"
   ]
  },
  {
   "cell_type": "markdown",
   "id": "53a83efc",
   "metadata": {},
   "source": [
    "## Matrix Multiplication"
   ]
  },
  {
   "cell_type": "code",
   "execution_count": null,
   "id": "e2787f15",
   "metadata": {},
   "outputs": [],
   "source": [
    "%reset -f\n",
    "import numpy as np\n",
    "\n",
    "A_Vector = np.array( [1, 2, 3, 4] ) #1D vector (neither row nor column).\n",
    "print(A_Vector)\n",
    "print(A_Vector.shape,\"\\n\")\n",
    "\n",
    "A1_Vector = np.array ( [ [1, 2, 3, 4] ] ) # row vector\n",
    "print(\"row vector →\",A1_Vector, \"shape →\",A1_Vector.shape,\"\\n\")\n",
    "\n",
    "B_Vector = np.array ( [ [1], [2], [3], [4] ] ) # column vector\n",
    "print(\"column vector →\\n\",B_Vector, \"\\nshape →\", B_Vector.shape,\"\\n\")\n",
    "\n",
    "A_Matrix = np.array([\n",
    "    [1, 2, 3, 4],\n",
    "    [5, 6, 7, 8]\n",
    "])\n",
    "print(\"matrix →\\n\",A_Matrix, \"\\nshape →\", A_Matrix.shape,\"\\n\")\n",
    "\n",
    "mat_vec_product = A_Matrix @ A_Vector # @ is vector product, * is element by element\n",
    "print(\"matrix product →\\n\", mat_vec_product, \"\\nshape →\", mat_vec_product.shape,\"\\n\")\n",
    "\n",
    "mat_vec_product2 = A_Matrix @ B_Vector # using column vector is TECHNICALLY CORRECT\n",
    "print(\"matrix product →\\n\", mat_vec_product2, \"\\nshape →\", mat_vec_product2.shape,\"\\n\")\n",
    "\n",
    "X_Matrix = np.array([\n",
    "    [1, 2, 3, 4],\n",
    "    [5, 6, 7, 8],\n",
    "    [9, 10, 11, 12],\n",
    "    [13, 14, 15, 16]\n",
    "    ])\n",
    "mat_vec_product3 = X_Matrix @ X_Matrix\n",
    "print(\"matrix product →\\n\", mat_vec_product3, \"\\nshape →\", mat_vec_product3.shape,\"\\n\")"
   ]
  },
  {
   "cell_type": "code",
   "execution_count": null,
   "id": "d464b74c",
   "metadata": {},
   "outputs": [],
   "source": [
    "%reset -f\n",
    "import numpy as np\n",
    "\n",
    "#A = np.array([ [1, 2], [4, 5] ])\n",
    "#A = np.array([ [1, 1], [1, 2], [1, 3], [1, 4] ])\n",
    "#A = np.random.randn(100, 100)\n",
    "A = np.random.rand(100, 100)\n",
    "#A = np.array([ [1,1], [1,2], [1,5], [1,6] ])\n",
    "#print(\"A = \", A)\n",
    "print(\"size of A = \", A.shape)\n",
    "#b = np.array([1, 1])\n",
    "#b = np.array([1, 3, 3, 5])\n",
    "#b = np.random.randn(100)\n",
    "b = np.random.rand(100)\n",
    "#b = np.array([3, 4, 5, 10])\n",
    "print(\"size of b = \", b.shape)\n",
    "\n",
    "x, residuals, rank, s = np.linalg.lstsq(A, b, rcond=None) \n",
    "#print(\"x: \", np.round(x, decimals=10))\n",
    "print(\"residuals: \", np.round(residuals, decimals=10))\n",
    "#print(\"Ax - b: \", np.round(A @ x - b, decimals=10))\n",
    "print(\"sum Ax - b: \", np.round((sum(A @ x - b)), decimals = 10))\n",
    "#print(\"b - Ax: \", np.round(b - A @ x, decimals=10))"
   ]
  },
  {
   "cell_type": "code",
   "execution_count": null,
   "id": "f631be3b",
   "metadata": {},
   "outputs": [],
   "source": [
    "%reset -f\n",
    "import numpy as np\n",
    "\n",
    "A = np.array([\n",
    "    [1, 1],\n",
    "    [1, 2],\n",
    "    [1, 5],\n",
    "    [1, 6]\n",
    "])\n",
    "\n",
    "print (A.shape)\n",
    "\n",
    "At = A.T\n",
    "\n",
    "print (At.shape)\n",
    "\n",
    "At @ A"
   ]
  },
  {
   "cell_type": "code",
   "execution_count": null,
   "id": "5b1c5c95",
   "metadata": {},
   "outputs": [],
   "source": [
    "%reset -f\n",
    "import numpy as np\n",
    "from matplotlib import pyplot as plt\n",
    "from scipy.integrate import solve_ivp\n",
    "\n",
    "TSpan = [0, 10]\n",
    "t = np.linspace(0, 10, 1000)\n",
    "X_initial = [1, 0]\n",
    "\n",
    "def ode_test(t, X0): \n",
    "    X = np.zeros(2)\n",
    "    lam = 2\n",
    "    zeta = 1\n",
    "    X[0] = X0[1]\n",
    "    X[1] = - lam * X0[0] - zeta * X0[1]\n",
    "    return X\n",
    "\n",
    "ode_test_solution = solve_ivp(ode_test, TSpan, X_initial, t_eval=t)\n",
    "\n",
    "T_out = t\n",
    "Y_out = ode_test_solution.y.T\n",
    "print(Y_out.shape)\n",
    "\n",
    "plt.figure()\n",
    "plt.plot(T_out, Y_out)\n",
    "plt.xlabel('Time')\n",
    "plt.ylabel('Solutions')\n",
    "plt.legend(['Position', 'Velocity'])\n",
    "plt.title('Position and Velocity')\n",
    "plt.grid(True)\n",
    "\n",
    "plt.figure()\n",
    "plt.plot(T_out, Y_out[:, 0])  # The \":\" here takes all elements in the rows \n",
    "                              # associated with the first column. This is called\n",
    "                              # index slicing and it is incredibly useful.\n",
    "plt.xlabel('Time')\n",
    "plt.ylabel('Solutions')\n",
    "plt.legend('Position')\n",
    "plt.title('Just Position')\n",
    "plt.grid(True)\n",
    "\n",
    "plt.figure()\n",
    "plt.plot(T_out, Y_out[:, 1])  # The \":\" here takes all elements in the rows \n",
    "                              # associated with the first column. This is called\n",
    "                              # index slicing and it is incredibly useful.\n",
    "plt.xlabel('Time')\n",
    "plt.ylabel('Solutions')\n",
    "plt.legend('Position')\n",
    "plt.title('Just Position')\n",
    "plt.grid(True)\n"
   ]
  },
  {
   "cell_type": "markdown",
   "id": "06480fa5",
   "metadata": {},
   "source": [
    "***\n",
    "<br><br><br> <br><br><br> <br><br><br> <br>\n",
    "***"
   ]
  }
 ],
 "metadata": {
  "kernelspec": {
   "display_name": "Python 3",
   "language": "python",
   "name": "python3"
  },
  "language_info": {
   "codemirror_mode": {
    "name": "ipython",
    "version": 3
   },
   "file_extension": ".py",
   "mimetype": "text/x-python",
   "name": "python",
   "nbconvert_exporter": "python",
   "pygments_lexer": "ipython3",
   "version": "3.13.3"
  }
 },
 "nbformat": 4,
 "nbformat_minor": 5
}
